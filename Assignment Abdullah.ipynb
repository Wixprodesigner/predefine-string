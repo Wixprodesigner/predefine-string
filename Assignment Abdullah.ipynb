{
 "cells": [
  {
   "cell_type": "code",
   "execution_count": 17,
   "metadata": {},
   "outputs": [
    {
     "name": "stdout",
     "output_type": "stream",
     "text": [
      "My name is Abdulla mehfooz\n"
     ]
    },
    {
     "data": {
      "text/plain": [
       "str"
      ]
     },
     "execution_count": 17,
     "metadata": {},
     "output_type": "execute_result"
    }
   ],
   "source": [
    "\n",
    "note = \"My name is Abdulla mehfooz\"\n",
    "print(note)\n",
    "type(note)\n"
   ]
  },
  {
   "cell_type": "code",
   "execution_count": 2,
   "metadata": {},
   "outputs": [
    {
     "name": "stdout",
     "output_type": "stream",
     "text": [
      "I am work on fiverr and doing website job\n"
     ]
    }
   ],
   "source": [
    "note = \"I am work on fiverr and doing website job\"\n",
    "# Return a capitalized version of the string.    \n",
    "# More specifically, make the first character have upper case and the rest lower case.\n",
    "print(note.capitalize())\n"
   ]
  },
  {
   "cell_type": "code",
   "execution_count": 3,
   "metadata": {},
   "outputs": [
    {
     "name": "stdout",
     "output_type": "stream",
     "text": [
      "                             I am work on fiverr and doing website job                              \n",
      "*****************************I am work on fiverr and doing website job******************************\n"
     ]
    }
   ],
   "source": [
    "note = \"I am work on fiverr and doing website job\"\n",
    "#  Return a centered string of length width.\n",
    "print(note.center(100))\n",
    "#  Padding is done using the specified fill character (default is a space).\n",
    "print(note.center(100, '*'))"
   ]
  },
  {
   "cell_type": "code",
   "execution_count": 4,
   "metadata": {},
   "outputs": [
    {
     "name": "stdout",
     "output_type": "stream",
     "text": [
      "-1\n"
     ]
    }
   ],
   "source": [
    "note = \"I am work on fiverr and doing website job\"\n",
    "substr= \"Job\"\n",
    "# Return the lowest index in S where substring sub is found\n",
    "print(note.find(substr))\n"
   ]
  },
  {
   "cell_type": "code",
   "execution_count": 5,
   "metadata": {},
   "outputs": [
    {
     "name": "stdout",
     "output_type": "stream",
     "text": [
      "I am work on fiverr and PIAIC  doing website job AI\n"
     ]
    }
   ],
   "source": [
    "\n",
    "note = \"I am work on fiverr and {}  doing website job {}\"\n",
    "# Return a formatted version of S, using substitutions from args and kwargs.\n",
    "print(note.format(\"PIAIC\", \"AI\"))"
   ]
  },
  {
   "cell_type": "code",
   "execution_count": 7,
   "metadata": {},
   "outputs": [
    {
     "name": "stdout",
     "output_type": "stream",
     "text": [
      "2\n"
     ]
    }
   ],
   "source": [
    "ote = \"I am work on fiverr and doing website job\"\n",
    "substr= \"am\"\n",
    "# Return the lowest index in String where substring is found\n",
    "print(note.index(substr))"
   ]
  },
  {
   "cell_type": "code",
   "execution_count": 9,
   "metadata": {},
   "outputs": [
    {
     "name": "stdout",
     "output_type": "stream",
     "text": [
      "True\n"
     ]
    }
   ],
   "source": [
    "note = \"I am work on fiverr and doing website job\"\n",
    "# Return True if all characters in the string are ASCII, False otherwise.\n",
    "print(note.isascii())"
   ]
  },
  {
   "cell_type": "code",
   "execution_count": 10,
   "metadata": {},
   "outputs": [
    {
     "name": "stdout",
     "output_type": "stream",
     "text": [
      "False\n",
      "True\n"
     ]
    }
   ],
   "source": [
    "note = \"I am work on fiverr and doing website job\"\n",
    "# Return True if the string is a decimal string, False otherwise.\n",
    "print(note.isdecimal())\n",
    "number1 = \"01000001\"\n",
    "print(number1.isdecimal())"
   ]
  },
  {
   "cell_type": "code",
   "execution_count": 11,
   "metadata": {},
   "outputs": [
    {
     "name": "stdout",
     "output_type": "stream",
     "text": [
      "False\n",
      "True\n"
     ]
    }
   ],
   "source": [
    "note = \"I am work on fiverr and doing website job\"\n",
    "# Return True if the string is a digit string, False otherwise.\n",
    "print(note.isdigit())\n",
    "number1 = \"648\"\n",
    "print(number1.isdigit())"
   ]
  },
  {
   "cell_type": "code",
   "execution_count": 12,
   "metadata": {},
   "outputs": [
    {
     "name": "stdout",
     "output_type": "stream",
     "text": [
      "I am work on fiverr and doing website job***********************\n"
     ]
    }
   ],
   "source": [
    "note = \"I am work on fiverr and doing website job\"\n",
    "# Return a left-justified string of length width.\n",
    "print(note.ljust(64, '*'))"
   ]
  },
  {
   "cell_type": "code",
   "execution_count": 13,
   "metadata": {},
   "outputs": [
    {
     "name": "stdout",
     "output_type": "stream",
     "text": [
      "('I am work on fiverr and doing website job', '', '')\n"
     ]
    }
   ],
   "source": [
    "note = \"I am work on fiverr and doing website job\"\n",
    "# Partition the string into three parts using the given separator.\n",
    "print(note.partition('.'))"
   ]
  },
  {
   "cell_type": "code",
   "execution_count": 15,
   "metadata": {},
   "outputs": [
    {
     "name": "stdout",
     "output_type": "stream",
     "text": [
      "I*am*work*on*fiverr*and*doing*website*job\n"
     ]
    }
   ],
   "source": [
    "note = \"I am work on fiverr and doing website job\"\n",
    "# Return a copy with all occurrences of substring old replaced by new.\n",
    "print(note.replace(' ', '*', -1))"
   ]
  },
  {
   "cell_type": "code",
   "execution_count": 16,
   "metadata": {},
   "outputs": [
    {
     "name": "stdout",
     "output_type": "stream",
     "text": [
      "I 1m work on fiverr 1n4 4oing we2site jo2\n"
     ]
    }
   ],
   "source": [
    "note = \"I am work on fiverr and doing website job\"\n",
    "input_table = \"abcd\"\n",
    "output_table = \"1234\"\n",
    "trans_table = note.maketrans(input_table, output_table)\n",
    "# Replace each character in the string using the given translation table.\n",
    "print(note.translate(trans_table))"
   ]
  },
  {
   "cell_type": "code",
   "execution_count": 18,
   "metadata": {},
   "outputs": [
    {
     "name": "stdout",
     "output_type": "stream",
     "text": [
      "I AM WORK ON FIVERR AND DOING WEBSITE JOB\n"
     ]
    }
   ],
   "source": [
    "note = \"I am work on fiverr and doing website job\"\n",
    "# Return a copy of the string converted to uppercase.\n",
    "print(note.upper())"
   ]
  },
  {
   "cell_type": "code",
   "execution_count": null,
   "metadata": {},
   "outputs": [],
   "source": []
  }
 ],
 "metadata": {
  "kernelspec": {
   "display_name": "Python 3",
   "language": "python",
   "name": "python3"
  },
  "language_info": {
   "codemirror_mode": {
    "name": "ipython",
    "version": 3
   },
   "file_extension": ".py",
   "mimetype": "text/x-python",
   "name": "python",
   "nbconvert_exporter": "python",
   "pygments_lexer": "ipython3",
   "version": "3.7.3"
  }
 },
 "nbformat": 4,
 "nbformat_minor": 4
}
